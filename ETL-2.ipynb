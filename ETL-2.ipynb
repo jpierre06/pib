{
 "cells": [
  {
   "cell_type": "markdown",
   "metadata": {},
   "source": [
    "# Importar bibliotecas"
   ]
  },
  {
   "cell_type": "code",
   "execution_count": 1,
   "metadata": {},
   "outputs": [],
   "source": [
    "import time\n",
    "import json\n",
    "import requests\n",
    "import pandas as pd\n",
    "from pandas.io.json import json_normalize\n",
    "import numpy as np\n",
    "import os"
   ]
  },
  {
   "cell_type": "code",
   "execution_count": 2,
   "metadata": {},
   "outputs": [],
   "source": [
    "from datetime import datetime"
   ]
  },
  {
   "cell_type": "code",
   "execution_count": null,
   "metadata": {},
   "outputs": [],
   "source": []
  },
  {
   "cell_type": "markdown",
   "metadata": {},
   "source": [
    "# Parametros"
   ]
  },
  {
   "cell_type": "code",
   "execution_count": 3,
   "metadata": {},
   "outputs": [],
   "source": [
    "path_notebook = os.getcwd()"
   ]
  },
  {
   "cell_type": "code",
   "execution_count": 4,
   "metadata": {},
   "outputs": [],
   "source": [
    "local_dw = './dw/'\n",
    "local_stage = './stage/'"
   ]
  },
  {
   "cell_type": "code",
   "execution_count": null,
   "metadata": {},
   "outputs": [],
   "source": []
  },
  {
   "cell_type": "code",
   "execution_count": 5,
   "metadata": {},
   "outputs": [],
   "source": [
    "#Inicio da execução do notebook\n",
    "start_general = datetime.now()"
   ]
  },
  {
   "cell_type": "code",
   "execution_count": null,
   "metadata": {},
   "outputs": [],
   "source": []
  },
  {
   "cell_type": "markdown",
   "metadata": {},
   "source": [
    "## Definir funções"
   ]
  },
  {
   "cell_type": "code",
   "execution_count": 6,
   "metadata": {},
   "outputs": [],
   "source": [
    "def renomear_colunas(nome_df, nomes_colunas):\n",
    "    for i in range(0, len(nomes_colunas), 1):\n",
    "        #print (nomes_colunas[i])\n",
    "        nome_df.rename(columns = {\n",
    "            nome_df.columns[i] : nomes_colunas[i]\n",
    "        }, inplace = True) "
   ]
  },
  {
   "cell_type": "code",
   "execution_count": 7,
   "metadata": {},
   "outputs": [],
   "source": [
    "def gerar_surrogate_key(dataframe):\n",
    "    return list(range(1, len(dataframe) +1, 1))"
   ]
  },
  {
   "cell_type": "code",
   "execution_count": null,
   "metadata": {},
   "outputs": [],
   "source": []
  },
  {
   "cell_type": "markdown",
   "metadata": {},
   "source": [
    "## Leitura do arquivo"
   ]
  },
  {
   "cell_type": "code",
   "execution_count": 8,
   "metadata": {},
   "outputs": [],
   "source": [
    "nome_arquivo_local = 'pib-municipios-2010-2018.parquet'"
   ]
  },
  {
   "cell_type": "code",
   "execution_count": 9,
   "metadata": {},
   "outputs": [],
   "source": [
    "stage_pib = pd.read_parquet(local_stage + nome_arquivo_local)"
   ]
  },
  {
   "cell_type": "code",
   "execution_count": null,
   "metadata": {},
   "outputs": [],
   "source": []
  },
  {
   "cell_type": "markdown",
   "metadata": {},
   "source": [
    "## Dimensão Região"
   ]
  },
  {
   "cell_type": "code",
   "execution_count": 10,
   "metadata": {},
   "outputs": [],
   "source": [
    "dimensao_regiao = stage_pib.groupby([\n",
    "    'id_Regiao'\n",
    "    ,'nome_Regiao'\n",
    "]).agg({\n",
    "    'id_Regiao' : [('sk_Regiao', 'count' )]\n",
    "}).reset_index()"
   ]
  },
  {
   "cell_type": "markdown",
   "metadata": {},
   "source": [
    "#### Ajustes label das colunas"
   ]
  },
  {
   "cell_type": "code",
   "execution_count": 11,
   "metadata": {},
   "outputs": [],
   "source": [
    "dimensao_regiao.columns = [(x[0] if x[1]=='' else x[1]) for x in dimensao_regiao.columns]"
   ]
  },
  {
   "cell_type": "markdown",
   "metadata": {},
   "source": [
    "#### Gerar surrogate key"
   ]
  },
  {
   "cell_type": "code",
   "execution_count": 12,
   "metadata": {},
   "outputs": [],
   "source": [
    "dimensao_regiao['sk_regiao'] = gerar_surrogate_key(dimensao_regiao)"
   ]
  },
  {
   "cell_type": "markdown",
   "metadata": {},
   "source": [
    "## Salvar dataframe em arquivo local formato parquet"
   ]
  },
  {
   "cell_type": "code",
   "execution_count": 13,
   "metadata": {},
   "outputs": [],
   "source": [
    "dimensao_regiao.to_parquet(local_dw + 'dRegiao.parquet', index=False)"
   ]
  },
  {
   "cell_type": "code",
   "execution_count": null,
   "metadata": {},
   "outputs": [],
   "source": []
  },
  {
   "cell_type": "markdown",
   "metadata": {},
   "source": [
    "## Dimensão Estado"
   ]
  },
  {
   "cell_type": "code",
   "execution_count": 14,
   "metadata": {},
   "outputs": [],
   "source": [
    "dimensao_estado = stage_pib.groupby([\n",
    "    'id_Estado'\n",
    "    ,'nome_Estado'\n",
    "    ,'sigla_Estado'\n",
    "]).agg({\n",
    "    'id_Estado' : [('sk_Estado', 'count' )]\n",
    "}).reset_index()"
   ]
  },
  {
   "cell_type": "markdown",
   "metadata": {},
   "source": [
    "#### Ajustes label das colunas"
   ]
  },
  {
   "cell_type": "code",
   "execution_count": 15,
   "metadata": {},
   "outputs": [],
   "source": [
    "dimensao_estado.columns = [(x[0] if x[1]=='' else x[1]) for x in dimensao_estado.columns]"
   ]
  },
  {
   "cell_type": "markdown",
   "metadata": {},
   "source": [
    "#### Gerar surrogate key"
   ]
  },
  {
   "cell_type": "code",
   "execution_count": 16,
   "metadata": {},
   "outputs": [],
   "source": [
    "dimensao_estado['sk_Estado'] = gerar_surrogate_key(dimensao_estado)"
   ]
  },
  {
   "cell_type": "markdown",
   "metadata": {},
   "source": [
    "## Salvar dataframe em arquivo local formato parquet"
   ]
  },
  {
   "cell_type": "code",
   "execution_count": 17,
   "metadata": {},
   "outputs": [],
   "source": [
    "dimensao_estado.to_parquet(local_dw + 'dEstado.parquet', index=False)"
   ]
  },
  {
   "cell_type": "code",
   "execution_count": null,
   "metadata": {},
   "outputs": [],
   "source": []
  },
  {
   "cell_type": "markdown",
   "metadata": {},
   "source": [
    "## Dimensão Município"
   ]
  },
  {
   "cell_type": "code",
   "execution_count": 18,
   "metadata": {},
   "outputs": [],
   "source": [
    "dimensao_municipio = stage_pib.groupby([\n",
    "    'id_Municipio'\n",
    "    ,'nome_Municipio'\n",
    "    ,'nome_Regiao_Metropolitana'\n",
    "    ,'valida_Regiao_Metropolitana'\n",
    "    ,'id_Mesoregiao'\n",
    "    ,'nome_Mesoregiao'\n",
    "    ,'id_Microregiao'\n",
    "    ,'nome_Microregiao'\n",
    "    ,'id_Regiao_Imediata'\n",
    "    ,'nome_Regiao_Imediata'\n",
    "    ,'municipio_Regiao_Imediata'\n",
    "    ,'id_Regiao_Intermediaria'\n",
    "    ,'nome_Regiao_Intermediaria'\n",
    "    ,'municipio_Regiao_Intermediaria'\n",
    "    ,'codigo_Concentracao_Urbana'\n",
    "    ,'nome_Concentracao_Urbana'\n",
    "    ,'tipo_Concentracao_Urbana'\n",
    "    ,'valida_Concentracao_Urbana'\n",
    "    ,'codigo_Arranjo_Populacional'\n",
    "    ,'nome_Arranjo_Populacional'\n",
    "    ,'valida_Arranjo_Populacional'\n",
    "    ,'hierarquia_Urbana'\n",
    "    ,'hierarquia_Urbana_Principais'\n",
    "    ,'codigo_Regiao_Rural'\n",
    "    ,'nome_Regiao_Rural'\n",
    "    ,'nome_Regiao_Rural_Nucleo'\n",
    "]).agg({\n",
    "    'id_Municipio' : [('sk_Municipio', 'count' )]\n",
    "}).reset_index()"
   ]
  },
  {
   "cell_type": "markdown",
   "metadata": {},
   "source": [
    "#### Ajustes label das colunas"
   ]
  },
  {
   "cell_type": "code",
   "execution_count": 19,
   "metadata": {},
   "outputs": [],
   "source": [
    "dimensao_municipio.columns = [(x[0] if x[1]=='' else x[1]) for x in dimensao_municipio.columns]"
   ]
  },
  {
   "cell_type": "markdown",
   "metadata": {},
   "source": [
    "#### Gerar surrogate key"
   ]
  },
  {
   "cell_type": "code",
   "execution_count": 20,
   "metadata": {},
   "outputs": [],
   "source": [
    "dimensao_municipio['sk_Municipio'] = gerar_surrogate_key(dimensao_municipio)"
   ]
  },
  {
   "cell_type": "markdown",
   "metadata": {},
   "source": [
    "## Salvar dataframe em arquivo local formato parquet"
   ]
  },
  {
   "cell_type": "code",
   "execution_count": 21,
   "metadata": {},
   "outputs": [],
   "source": [
    "dimensao_municipio.to_parquet(local_dw + 'dMunicipio.parquet', index=False)"
   ]
  },
  {
   "cell_type": "code",
   "execution_count": null,
   "metadata": {},
   "outputs": [],
   "source": []
  },
  {
   "cell_type": "markdown",
   "metadata": {},
   "source": [
    "## Dimensão Ano"
   ]
  },
  {
   "cell_type": "code",
   "execution_count": 22,
   "metadata": {},
   "outputs": [],
   "source": [
    "ano = list(range(1900, 2101, 1))"
   ]
  },
  {
   "cell_type": "code",
   "execution_count": 23,
   "metadata": {},
   "outputs": [],
   "source": [
    "sk_ano = list(range(1, len(ano) +1, 1))"
   ]
  },
  {
   "cell_type": "code",
   "execution_count": null,
   "metadata": {},
   "outputs": [],
   "source": []
  },
  {
   "cell_type": "markdown",
   "metadata": {},
   "source": [
    "#### Ajustes label das colunas"
   ]
  },
  {
   "cell_type": "code",
   "execution_count": 24,
   "metadata": {},
   "outputs": [],
   "source": [
    "dimensao_ano = pd.DataFrame(data = {'Ano': ano, 'sk_Ano': sk_ano})"
   ]
  },
  {
   "cell_type": "code",
   "execution_count": null,
   "metadata": {},
   "outputs": [],
   "source": []
  },
  {
   "cell_type": "markdown",
   "metadata": {},
   "source": [
    "## Salvar dataframe em arquivo local formato parquet"
   ]
  },
  {
   "cell_type": "code",
   "execution_count": 25,
   "metadata": {},
   "outputs": [],
   "source": [
    "dimensao_ano.to_parquet(local_dw + 'dAno.parquet', index=False)"
   ]
  },
  {
   "cell_type": "code",
   "execution_count": null,
   "metadata": {},
   "outputs": [],
   "source": []
  },
  {
   "cell_type": "markdown",
   "metadata": {},
   "source": [
    "### Consultar IDs dimensões"
   ]
  },
  {
   "cell_type": "markdown",
   "metadata": {},
   "source": [
    "#### ID Região"
   ]
  },
  {
   "cell_type": "code",
   "execution_count": 26,
   "metadata": {},
   "outputs": [],
   "source": [
    "stage_pib = pd.merge(\n",
    "    stage_pib\n",
    "    ,dimensao_regiao[['id_Regiao', 'sk_Regiao']]\n",
    "    ,on = ('id_Regiao')\n",
    "    ,how = 'inner'\n",
    ")"
   ]
  },
  {
   "cell_type": "code",
   "execution_count": null,
   "metadata": {},
   "outputs": [],
   "source": []
  },
  {
   "cell_type": "markdown",
   "metadata": {},
   "source": [
    "#### ID Estado"
   ]
  },
  {
   "cell_type": "code",
   "execution_count": 27,
   "metadata": {},
   "outputs": [],
   "source": [
    "stage_pib = pd.merge(\n",
    "    stage_pib\n",
    "    ,dimensao_estado[['id_Estado', 'sk_Estado']]\n",
    "    ,on = ('id_Estado')\n",
    "    ,how = 'inner'\n",
    ")"
   ]
  },
  {
   "cell_type": "code",
   "execution_count": null,
   "metadata": {},
   "outputs": [],
   "source": []
  },
  {
   "cell_type": "markdown",
   "metadata": {},
   "source": [
    "#### ID Municipio"
   ]
  },
  {
   "cell_type": "code",
   "execution_count": 28,
   "metadata": {},
   "outputs": [],
   "source": [
    "stage_pib = pd.merge(\n",
    "    stage_pib\n",
    "    ,dimensao_municipio[['id_Municipio', 'sk_Municipio']]\n",
    "    ,on = ('id_Municipio')\n",
    "    ,how = 'inner'\n",
    ")"
   ]
  },
  {
   "cell_type": "code",
   "execution_count": null,
   "metadata": {},
   "outputs": [],
   "source": []
  },
  {
   "cell_type": "markdown",
   "metadata": {},
   "source": [
    "#### ID Ano do PIB"
   ]
  },
  {
   "cell_type": "code",
   "execution_count": 29,
   "metadata": {},
   "outputs": [],
   "source": [
    "stage_pib = pd.merge(\n",
    "    stage_pib\n",
    "    ,dimensao_ano[['Ano', 'sk_Ano']]\n",
    "    ,left_on = ('ano_PIB')\n",
    "    ,right_on = ('Ano')\n",
    "    ,how = 'inner'\n",
    ")"
   ]
  },
  {
   "cell_type": "code",
   "execution_count": 30,
   "metadata": {},
   "outputs": [],
   "source": [
    "stage_pib = stage_pib.rename(columns = {'sk_Ano' : 'sk_Ano_PIB'})"
   ]
  },
  {
   "cell_type": "code",
   "execution_count": null,
   "metadata": {},
   "outputs": [],
   "source": []
  },
  {
   "cell_type": "markdown",
   "metadata": {},
   "source": [
    "#### ID Ano de Referência"
   ]
  },
  {
   "cell_type": "code",
   "execution_count": 31,
   "metadata": {},
   "outputs": [],
   "source": [
    "stage_pib = pd.merge(\n",
    "    stage_pib\n",
    "    ,dimensao_ano[['Ano', 'sk_Ano']]\n",
    "    ,left_on = ('ano_Referencia')\n",
    "    ,right_on = ('Ano')\n",
    "    ,how = 'inner'\n",
    ")"
   ]
  },
  {
   "cell_type": "code",
   "execution_count": 32,
   "metadata": {},
   "outputs": [],
   "source": [
    "stage_pib = stage_pib.rename(columns = {'sk_Ano' : 'sk_Ano_Referencia'})"
   ]
  },
  {
   "cell_type": "code",
   "execution_count": null,
   "metadata": {},
   "outputs": [],
   "source": []
  },
  {
   "cell_type": "markdown",
   "metadata": {},
   "source": [
    "## Tabela Fato Região"
   ]
  },
  {
   "cell_type": "code",
   "execution_count": 33,
   "metadata": {},
   "outputs": [],
   "source": [
    "fato_regiao = stage_pib.groupby([\n",
    "    'sk_Regiao'\n",
    "    ,'sk_Ano_PIB'\n",
    "    ,'sk_Ano_Referencia'\n",
    "]).agg({\n",
    "    'id_Estado' : [('quantidade_Estados', pd.Series.nunique)]\n",
    "    ,'id_Municipio' : [('quantidade_Municipios', pd.Series.nunique)]\n",
    "    ,'populacao_Projetada' : [('menor_Populacao', 'min'), ('maior_Populacao', 'max'), ('total_Populacao', 'sum')]\n",
    "    ,'valor_PIB' : [('menor_valor_PIB', 'min'), ('maior_valor_PIB', 'max'), ('valor_PIB', 'sum')]\n",
    "    ,'valor_Bruto_Agropecuaria' : [('valor_Agropecuaria', 'sum')]\n",
    "    ,'valor_Bruto_Industria' : [('valor_Industria', 'sum')]\n",
    "    ,'valor_Bruto_Servicos' : [('valor_Servicos', 'sum')]\n",
    "    ,'valor_Bruto_Administracao_Publica' : [('valor_Administracao_Publica', 'sum')]\n",
    "    ,'valor_Impostos_Liquido' : [('valor_Impostos_Liquido', 'sum')]\n",
    "    ,'valor_PIB_percapita' : [('menor_PIB_percapita', 'min'), ('maior_PIB_percapita', 'max'), ('valor_PIB_percapita', 'sum')]\n",
    "    \n",
    "}).reset_index().sort_values(by = [\n",
    "    ('sk_Ano_PIB', '')\n",
    "    ,('valor_PIB', 'valor_PIB')\n",
    "], ascending=[False, False])"
   ]
  },
  {
   "cell_type": "markdown",
   "metadata": {},
   "source": [
    "#### Ajustes label das colunas"
   ]
  },
  {
   "cell_type": "code",
   "execution_count": 34,
   "metadata": {},
   "outputs": [],
   "source": [
    "fato_regiao.columns = [(x[0] if x[1]=='' else x[1]) for x in fato_regiao.columns]"
   ]
  },
  {
   "cell_type": "code",
   "execution_count": null,
   "metadata": {},
   "outputs": [],
   "source": []
  },
  {
   "cell_type": "markdown",
   "metadata": {},
   "source": [
    "## Salvar dataframe em arquivo local formato parquet"
   ]
  },
  {
   "cell_type": "code",
   "execution_count": 35,
   "metadata": {},
   "outputs": [],
   "source": [
    "fato_regiao.to_parquet(local_dw + 'fPIB_Regiao.parquet', index=False)"
   ]
  },
  {
   "cell_type": "code",
   "execution_count": null,
   "metadata": {},
   "outputs": [],
   "source": []
  },
  {
   "cell_type": "markdown",
   "metadata": {},
   "source": [
    "## Tabela Fato Estado"
   ]
  },
  {
   "cell_type": "code",
   "execution_count": 36,
   "metadata": {},
   "outputs": [],
   "source": [
    "fato_estado = stage_pib.groupby([\n",
    "    'sk_Estado'\n",
    "    ,'sk_Ano_PIB'\n",
    "    ,'sk_Ano_Referencia'\n",
    "]).agg({\n",
    "    'id_Municipio' : [('quantidade_Municipios', pd.Series.nunique)]\n",
    "    ,'populacao_Projetada' : [('menor_Populacao', 'min'), ('maior_Populacao', 'max'), ('total_Populacao', 'sum')]\n",
    "    ,'valor_PIB' : [('menor_valor_PIB', 'min'), ('maior_valor_PIB', 'max'), ('valor_PIB', 'sum')]\n",
    "    ,'valor_Bruto_Agropecuaria' : [('valor_Agropecuaria', 'sum')]\n",
    "    ,'valor_Bruto_Industria' : [('valor_Industria', 'sum')]\n",
    "    ,'valor_Bruto_Servicos' : [('valor_Servicos', 'sum')]\n",
    "    ,'valor_Bruto_Administracao_Publica' : [('valor_Administracao_Publica', 'sum')]\n",
    "    ,'valor_Impostos_Liquido' : [('valor_Impostos_Liquido', 'sum')]\n",
    "    ,'valor_PIB_percapita' : [('menor_PIB_percapita', 'min'), ('maior_PIB_percapita', 'max'), ('valor_PIB_percapita', 'sum')]\n",
    "    \n",
    "}).reset_index().sort_values(by = [\n",
    "    ('sk_Ano_PIB', '')\n",
    "    ,('valor_PIB', 'valor_PIB')\n",
    "], ascending=[False, False])"
   ]
  },
  {
   "cell_type": "markdown",
   "metadata": {},
   "source": [
    "#### Ajustes label das colunas"
   ]
  },
  {
   "cell_type": "code",
   "execution_count": 37,
   "metadata": {},
   "outputs": [],
   "source": [
    "fato_estado.columns = [(x[0] if x[1]=='' else x[1]) for x in fato_estado.columns]"
   ]
  },
  {
   "cell_type": "code",
   "execution_count": null,
   "metadata": {},
   "outputs": [],
   "source": []
  },
  {
   "cell_type": "markdown",
   "metadata": {},
   "source": [
    "## Salvar dataframe em arquivo local formato parquet"
   ]
  },
  {
   "cell_type": "code",
   "execution_count": 38,
   "metadata": {},
   "outputs": [],
   "source": [
    "fato_estado.to_parquet(local_dw + 'fPIB_Estado.parquet', index=False)"
   ]
  },
  {
   "cell_type": "code",
   "execution_count": null,
   "metadata": {},
   "outputs": [],
   "source": []
  },
  {
   "cell_type": "markdown",
   "metadata": {},
   "source": [
    "## Tabela Fato Município"
   ]
  },
  {
   "cell_type": "code",
   "execution_count": 39,
   "metadata": {},
   "outputs": [],
   "source": [
    "fato_municipio = stage_pib.groupby([\n",
    "    'sk_Municipio'\n",
    "    ,'sk_Ano_PIB'\n",
    "    ,'sk_Ano_Referencia'\n",
    "]).agg({\n",
    "    'populacao_Projetada' : [('menor_Populacao', 'min'), ('maior_Populacao', 'max'), ('total_Populacao', 'sum')]\n",
    "    ,'valor_PIB' : [('menor_valor_PIB', 'min'), ('maior_valor_PIB', 'max'), ('valor_PIB', 'sum')]\n",
    "    ,'valor_Bruto_Agropecuaria' : [('valor_Agropecuaria', 'sum')]\n",
    "    ,'valor_Bruto_Industria' : [('valor_Industria', 'sum')]\n",
    "    ,'valor_Bruto_Servicos' : [('valor_Servicos', 'sum')]\n",
    "    ,'valor_Bruto_Administracao_Publica' : [('valor_Administracao_Publica', 'sum')]\n",
    "    ,'valor_Impostos_Liquido' : [('valor_Impostos_Liquido', 'sum')]\n",
    "    ,'valor_PIB_percapita' : [('menor_PIB_percapita', 'min'), ('maior_PIB_percapita', 'max'), ('valor_PIB_percapita', 'sum')]\n",
    "    \n",
    "}).reset_index().sort_values(by = [\n",
    "    ('sk_Ano_PIB', '')\n",
    "    ,('valor_PIB', 'valor_PIB')\n",
    "], ascending=[False, False])"
   ]
  },
  {
   "cell_type": "markdown",
   "metadata": {},
   "source": [
    "#### Ajustes label das colunas"
   ]
  },
  {
   "cell_type": "code",
   "execution_count": 40,
   "metadata": {},
   "outputs": [],
   "source": [
    "fato_municipio.columns = [(x[0] if x[1]=='' else x[1]) for x in fato_municipio.columns]"
   ]
  },
  {
   "cell_type": "code",
   "execution_count": null,
   "metadata": {},
   "outputs": [],
   "source": []
  },
  {
   "cell_type": "markdown",
   "metadata": {},
   "source": [
    "## Salvar dataframe em arquivo local formato parquet"
   ]
  },
  {
   "cell_type": "code",
   "execution_count": 41,
   "metadata": {},
   "outputs": [],
   "source": [
    "fato_municipio.to_parquet(local_dw + 'fPIB_Municipio.parquet', index=False)"
   ]
  },
  {
   "cell_type": "code",
   "execution_count": null,
   "metadata": {},
   "outputs": [],
   "source": []
  },
  {
   "cell_type": "code",
   "execution_count": 42,
   "metadata": {},
   "outputs": [],
   "source": [
    "#Fim da execução do notebook\n",
    "end_general = datetime.now()"
   ]
  },
  {
   "cell_type": "code",
   "execution_count": 43,
   "metadata": {},
   "outputs": [
    {
     "name": "stdout",
     "output_type": "stream",
     "text": [
      "Tempo total notebook 0:00:02.607044\n"
     ]
    }
   ],
   "source": [
    "# Write the DataFrame to a BigQuery table\n",
    "\n",
    "print(\"Tempo total notebook \" + str(end_general - start_general))"
   ]
  },
  {
   "cell_type": "code",
   "execution_count": null,
   "metadata": {},
   "outputs": [],
   "source": []
  }
 ],
 "metadata": {
  "kernelspec": {
   "display_name": "Python 3",
   "language": "python",
   "name": "python3"
  },
  "language_info": {
   "codemirror_mode": {
    "name": "ipython",
    "version": 3
   },
   "file_extension": ".py",
   "mimetype": "text/x-python",
   "name": "python",
   "nbconvert_exporter": "python",
   "pygments_lexer": "ipython3",
   "version": "3.7.3"
  }
 },
 "nbformat": 4,
 "nbformat_minor": 4
}
