{
 "cells": [
  {
   "cell_type": "markdown",
   "metadata": {},
   "source": [
    "# Importar bibliotecas"
   ]
  },
  {
   "cell_type": "code",
   "execution_count": 1,
   "metadata": {},
   "outputs": [],
   "source": [
    "import time\n",
    "import json\n",
    "import requests\n",
    "import pandas as pd\n",
    "from pandas.io.json import json_normalize\n",
    "import numpy as np\n",
    "import os"
   ]
  },
  {
   "cell_type": "code",
   "execution_count": 2,
   "metadata": {},
   "outputs": [],
   "source": [
    "from datetime import datetime"
   ]
  },
  {
   "cell_type": "code",
   "execution_count": 3,
   "metadata": {},
   "outputs": [],
   "source": [
    "import zipfile, urllib.request, shutil"
   ]
  },
  {
   "cell_type": "code",
   "execution_count": null,
   "metadata": {},
   "outputs": [],
   "source": []
  },
  {
   "cell_type": "markdown",
   "metadata": {},
   "source": [
    "# Parametros"
   ]
  },
  {
   "cell_type": "code",
   "execution_count": 4,
   "metadata": {},
   "outputs": [],
   "source": [
    "path_notebook = os.getcwd()"
   ]
  },
  {
   "cell_type": "code",
   "execution_count": 13,
   "metadata": {},
   "outputs": [],
   "source": [
    "local_datalake = './datalake/'\n",
    "local_stage = './stage/'"
   ]
  },
  {
   "cell_type": "code",
   "execution_count": null,
   "metadata": {},
   "outputs": [],
   "source": []
  },
  {
   "cell_type": "code",
   "execution_count": 6,
   "metadata": {},
   "outputs": [],
   "source": [
    "#Inicio da execução do notebook\n",
    "start_general = datetime.now()"
   ]
  },
  {
   "cell_type": "code",
   "execution_count": null,
   "metadata": {},
   "outputs": [],
   "source": []
  },
  {
   "cell_type": "markdown",
   "metadata": {},
   "source": [
    "## Definir funções"
   ]
  },
  {
   "cell_type": "code",
   "execution_count": 48,
   "metadata": {},
   "outputs": [],
   "source": [
    "def importar_arquivo_zip(url_name, local_file_name, local_out_file):\n",
    "    print('url_name:', url_name)\n",
    "    print('local_file_name:', local_file_name)\n",
    "    print('local_out_file:', local_out_file)\n",
    "    \n",
    "    with urllib.request.urlopen(url_name) as response, open(local_file_name, 'wb') as out_file:\n",
    "        shutil.copyfileobj(response, out_file)\n",
    "        \n",
    "        with zipfile.ZipFile(local_file_name) as zf:\n",
    "            print('')\n",
    "            print('out_file:', out_file)\n",
    "            zf.extractall(local_out_file)"
   ]
  },
  {
   "cell_type": "code",
   "execution_count": 8,
   "metadata": {},
   "outputs": [],
   "source": [
    "def renomear_colunas(nome_df, nomes_colunas):\n",
    "    for i in range(0, len(nomes_colunas), 1):\n",
    "        #print (nomes_colunas[i])\n",
    "        nome_df.rename(columns = {\n",
    "            nome_df.columns[i] : nomes_colunas[i]\n",
    "        }, inplace = True) "
   ]
  },
  {
   "cell_type": "code",
   "execution_count": null,
   "metadata": {},
   "outputs": [],
   "source": []
  },
  {
   "cell_type": "code",
   "execution_count": null,
   "metadata": {},
   "outputs": [],
   "source": []
  },
  {
   "cell_type": "markdown",
   "metadata": {},
   "source": [
    "# Importar base de dados de países"
   ]
  },
  {
   "cell_type": "markdown",
   "metadata": {},
   "source": [
    "### Download da base de PIB por Município do IBGE de 2010 à 2018 com valores corrigidos para 2018"
   ]
  },
  {
   "cell_type": "code",
   "execution_count": 9,
   "metadata": {},
   "outputs": [],
   "source": [
    "url_download = r'https://ftp.ibge.gov.br/Pib_Municipios/2018/base/base_de_dados_2010_2018_xls.zip'\n",
    "nome_arquivo_local = 'pib_2010_2018.zip'"
   ]
  },
  {
   "cell_type": "code",
   "execution_count": 49,
   "metadata": {
    "collapsed": true
   },
   "outputs": [
    {
     "name": "stdout",
     "output_type": "stream",
     "text": [
      "url_name: https://ftp.ibge.gov.br/Pib_Municipios/2018/base/base_de_dados_2010_2018_xls.zip\n",
      "local_file_name: ./datalake/pib_2010_2018.zip\n",
      "local_out_file: ./datalake/\n",
      "\n",
      "out_file: <_io.BufferedWriter name='./datalake/pib_2010_2018.zip'>\n"
     ]
    },
    {
     "ename": "AttributeError",
     "evalue": "'ZipFile' object has no attribute 'name'",
     "output_type": "error",
     "traceback": [
      "\u001b[1;31m---------------------------------------------------------------------------\u001b[0m",
      "\u001b[1;31mAttributeError\u001b[0m                            Traceback (most recent call last)",
      "\u001b[1;32m<ipython-input-49-42f562064841>\u001b[0m in \u001b[0;36m<module>\u001b[1;34m\u001b[0m\n\u001b[1;32m----> 1\u001b[1;33m \u001b[0mimportar_arquivo_zip\u001b[0m\u001b[1;33m(\u001b[0m\u001b[0murl_download\u001b[0m\u001b[1;33m,\u001b[0m \u001b[0mlocal_datalake\u001b[0m \u001b[1;33m+\u001b[0m \u001b[0mnome_arquivo_local\u001b[0m\u001b[1;33m,\u001b[0m \u001b[0mlocal_datalake\u001b[0m\u001b[1;33m)\u001b[0m\u001b[1;33m\u001b[0m\u001b[1;33m\u001b[0m\u001b[0m\n\u001b[0m\u001b[0;32m      2\u001b[0m \u001b[0mdata_extracao\u001b[0m \u001b[1;33m=\u001b[0m \u001b[0mdatetime\u001b[0m\u001b[1;33m.\u001b[0m\u001b[0mnow\u001b[0m\u001b[1;33m(\u001b[0m\u001b[1;33m)\u001b[0m\u001b[1;33m\u001b[0m\u001b[1;33m\u001b[0m\u001b[0m\n",
      "\u001b[1;32m<ipython-input-48-b7b0572339de>\u001b[0m in \u001b[0;36mimportar_arquivo_zip\u001b[1;34m(url_name, local_file_name, local_out_file)\u001b[0m\n\u001b[0;32m     11\u001b[0m             \u001b[0mprint\u001b[0m\u001b[1;33m(\u001b[0m\u001b[1;34m'out_file:'\u001b[0m\u001b[1;33m,\u001b[0m \u001b[0mout_file\u001b[0m\u001b[1;33m)\u001b[0m\u001b[1;33m\u001b[0m\u001b[1;33m\u001b[0m\u001b[0m\n\u001b[0;32m     12\u001b[0m             \u001b[0mzf\u001b[0m\u001b[1;33m.\u001b[0m\u001b[0mextractall\u001b[0m\u001b[1;33m(\u001b[0m\u001b[0mlocal_out_file\u001b[0m\u001b[1;33m)\u001b[0m\u001b[1;33m\u001b[0m\u001b[1;33m\u001b[0m\u001b[0m\n\u001b[1;32m---> 13\u001b[1;33m             \u001b[0mzf\u001b[0m\u001b[1;33m.\u001b[0m\u001b[0mname\u001b[0m\u001b[1;33m\u001b[0m\u001b[1;33m\u001b[0m\u001b[0m\n\u001b[0m",
      "\u001b[1;31mAttributeError\u001b[0m: 'ZipFile' object has no attribute 'name'"
     ]
    }
   ],
   "source": [
    "importar_arquivo_zip(url_download, local_datalake + nome_arquivo_local, local_datalake)\n",
    "data_extracao = datetime.now()"
   ]
  },
  {
   "cell_type": "markdown",
   "metadata": {},
   "source": [
    "### Identificar nome arquivo compactado"
   ]
  },
  {
   "cell_type": "code",
   "execution_count": 60,
   "metadata": {},
   "outputs": [],
   "source": [
    "archive = zipfile.ZipFile(local_datalake + nome_arquivo_local, 'r')"
   ]
  },
  {
   "cell_type": "code",
   "execution_count": 61,
   "metadata": {},
   "outputs": [],
   "source": [
    "nome_arquivo_original = archive.filelist.__getitem__(0).filename"
   ]
  },
  {
   "cell_type": "code",
   "execution_count": null,
   "metadata": {},
   "outputs": [],
   "source": []
  },
  {
   "cell_type": "code",
   "execution_count": 62,
   "metadata": {},
   "outputs": [],
   "source": [
    "pib = pd.read_excel(local_datalake + nome_arquivo_original)"
   ]
  },
  {
   "cell_type": "code",
   "execution_count": 64,
   "metadata": {},
   "outputs": [],
   "source": [
    "try:\n",
    "    os.remove(local_datalake + nome_arquivo_original)\n",
    "except Exception as e:\n",
    "    print(e)\n",
    "    print('Erro deleção arquivo', local_datalake + nome_arquivo_original)\n",
    "except:\n",
    "    print('Erro deleção arquivo', local_datalake + nome_arquivo_original)"
   ]
  },
  {
   "cell_type": "code",
   "execution_count": null,
   "metadata": {},
   "outputs": [],
   "source": []
  },
  {
   "cell_type": "markdown",
   "metadata": {},
   "source": [
    "## Conversões"
   ]
  },
  {
   "cell_type": "markdown",
   "metadata": {},
   "source": [
    "### Tratamento nomes das colunas"
   ]
  },
  {
   "cell_type": "code",
   "execution_count": 65,
   "metadata": {},
   "outputs": [],
   "source": [
    "nomes_colunas = [\n",
    "    'ano_PIB'\n",
    "    ,'id_Regiao'\n",
    "    ,'nome_Regiao'\n",
    "    ,'id_Estado'\n",
    "    ,'sigla_Estado'\n",
    "    ,'nome_Estado'\n",
    "    ,'id_Municipio'\n",
    "    ,'nome_Municipio'\n",
    "    ,'nome_Regiao_Metropolitana'\n",
    "    ,'id_Mesoregiao'\n",
    "    ,'nome_Mesoregiao'\n",
    "    ,'id_Microregiao'\n",
    "    ,'nome_Microregiao'\n",
    "    ,'id_Regiao_Imediata'\n",
    "    ,'nome_Regiao_Imediata'\n",
    "    ,'municipio_Regiao_Imediata'\n",
    "    ,'id_Regiao_Intermediaria'\n",
    "    ,'nome_Regiao_Intermediaria'\n",
    "    ,'municipio_Regiao_Intermediaria'\n",
    "    ,'codigo_Concentracao_Urbana'\n",
    "    ,'nome_Concentracao_Urbana'\n",
    "    ,'tipo_Concentracao_Urbana'\n",
    "    ,'codigo_Arranjo_Populacional'\n",
    "    ,'nome_Arranjo_Populacional'\n",
    "    ,'hierarquia_Urbana'\n",
    "    ,'hierarquia_Urbana_Principais'\n",
    "    ,'codigo_Regiao_Rural'\n",
    "    ,'nome_Regiao_Rural'\n",
    "    ,'nome_Regiao_Rural_Nucleo'\n",
    "    ,'amazonia_Legal'\n",
    "    ,'semiarido'\n",
    "    ,'regiao_Sao_Paulo'\n",
    "    ,'valor_Bruto_Agropecuaria'\n",
    "    ,'valor_Bruto_Industria'\n",
    "    ,'valor_Bruto_Servicos'\n",
    "    ,'valor_Bruto_Administracao_Publica'\n",
    "    ,'valor_Bruto_Total'\n",
    "    ,'valor_Impostos_Liquido'\n",
    "    ,'valor_PIB'\n",
    "    ,'valor_PIB_percapita'\n",
    "    ,'atividade_Primeiro_Maior_Valor'\n",
    "    ,'atividade_Segundo_Maior_Valor'\n",
    "    ,'atividade_Terceiro_Maior_Valor'\n",
    "]"
   ]
  },
  {
   "cell_type": "code",
   "execution_count": 66,
   "metadata": {},
   "outputs": [
    {
     "name": "stdout",
     "output_type": "stream",
     "text": [
      "Quantidade de colunas do arquivo 43, quantidade de colunas para renomear 43\n"
     ]
    }
   ],
   "source": [
    "print('Quantidade de colunas do arquivo {0}, quantidade de colunas para renomear {1}'.format(len(pib.columns), len(nomes_colunas)))"
   ]
  },
  {
   "cell_type": "code",
   "execution_count": 67,
   "metadata": {},
   "outputs": [],
   "source": [
    "renomear_colunas(pib, nomes_colunas)"
   ]
  },
  {
   "cell_type": "code",
   "execution_count": null,
   "metadata": {},
   "outputs": [],
   "source": []
  },
  {
   "cell_type": "markdown",
   "metadata": {},
   "source": [
    "### Ajustar colunas valore por 1000"
   ]
  },
  {
   "cell_type": "markdown",
   "metadata": {},
   "source": [
    "### Na base do IBGE os valores estão divididos por 1.000 reais"
   ]
  },
  {
   "cell_type": "code",
   "execution_count": 68,
   "metadata": {},
   "outputs": [],
   "source": [
    "pib['valor_Bruto_Agropecuaria'] = pib['valor_Bruto_Agropecuaria'] *1000"
   ]
  },
  {
   "cell_type": "code",
   "execution_count": 69,
   "metadata": {},
   "outputs": [],
   "source": [
    "pib['valor_Bruto_Industria'] = pib['valor_Bruto_Industria'] *1000"
   ]
  },
  {
   "cell_type": "code",
   "execution_count": 70,
   "metadata": {},
   "outputs": [],
   "source": [
    "pib['valor_Bruto_Servicos'] = pib['valor_Bruto_Servicos'] *1000"
   ]
  },
  {
   "cell_type": "code",
   "execution_count": 71,
   "metadata": {},
   "outputs": [],
   "source": [
    "pib['valor_Bruto_Administracao_Publica'] = pib['valor_Bruto_Administracao_Publica'] *1000"
   ]
  },
  {
   "cell_type": "code",
   "execution_count": 72,
   "metadata": {},
   "outputs": [],
   "source": [
    "pib['valor_Bruto_Total'] = pib['valor_Bruto_Total'] *1000"
   ]
  },
  {
   "cell_type": "code",
   "execution_count": 73,
   "metadata": {},
   "outputs": [],
   "source": [
    "pib['valor_Impostos_Liquido'] = pib['valor_Impostos_Liquido'] *1000"
   ]
  },
  {
   "cell_type": "code",
   "execution_count": 74,
   "metadata": {},
   "outputs": [],
   "source": [
    "pib['valor_PIB'] = pib['valor_PIB'] *1000"
   ]
  },
  {
   "cell_type": "code",
   "execution_count": null,
   "metadata": {},
   "outputs": [],
   "source": []
  },
  {
   "cell_type": "code",
   "execution_count": 75,
   "metadata": {},
   "outputs": [],
   "source": [
    "pib['populacao_Projetada'] = pib['valor_PIB'] / pib['valor_PIB_percapita'] "
   ]
  },
  {
   "cell_type": "code",
   "execution_count": 76,
   "metadata": {},
   "outputs": [],
   "source": [
    "pib['populacao_Projetada'] = pib['populacao_Projetada'].round(0)"
   ]
  },
  {
   "cell_type": "code",
   "execution_count": null,
   "metadata": {},
   "outputs": [],
   "source": []
  },
  {
   "cell_type": "code",
   "execution_count": 77,
   "metadata": {},
   "outputs": [],
   "source": [
    "pib['tipo_Valor'] = 'Preço corrente do ano referência'"
   ]
  },
  {
   "cell_type": "code",
   "execution_count": 78,
   "metadata": {},
   "outputs": [],
   "source": [
    "pib['data_Extracao'] = data_extracao"
   ]
  },
  {
   "cell_type": "code",
   "execution_count": 79,
   "metadata": {},
   "outputs": [],
   "source": [
    "pib['ano_Referencia'] = 2018"
   ]
  },
  {
   "cell_type": "code",
   "execution_count": null,
   "metadata": {},
   "outputs": [],
   "source": []
  },
  {
   "cell_type": "markdown",
   "metadata": {},
   "source": [
    "#### Características do dataframe"
   ]
  },
  {
   "cell_type": "code",
   "execution_count": 80,
   "metadata": {},
   "outputs": [
    {
     "name": "stdout",
     "output_type": "stream",
     "text": [
      "<class 'pandas.core.frame.DataFrame'>\n",
      "RangeIndex: 50115 entries, 0 to 50114\n",
      "Data columns (total 47 columns):\n",
      " #   Column                             Non-Null Count  Dtype         \n",
      "---  ------                             --------------  -----         \n",
      " 0   ano_PIB                            50115 non-null  int64         \n",
      " 1   id_Regiao                          50115 non-null  int64         \n",
      " 2   nome_Regiao                        50115 non-null  object        \n",
      " 3   id_Estado                          50115 non-null  int64         \n",
      " 4   sigla_Estado                       50115 non-null  object        \n",
      " 5   nome_Estado                        50115 non-null  object        \n",
      " 6   id_Municipio                       50115 non-null  int64         \n",
      " 7   nome_Municipio                     50115 non-null  object        \n",
      " 8   nome_Regiao_Metropolitana          12489 non-null  object        \n",
      " 9   id_Mesoregiao                      50115 non-null  int64         \n",
      " 10  nome_Mesoregiao                    50115 non-null  object        \n",
      " 11  id_Microregiao                     50115 non-null  int64         \n",
      " 12  nome_Microregiao                   50115 non-null  object        \n",
      " 13  id_Regiao_Imediata                 50115 non-null  int64         \n",
      " 14  nome_Regiao_Imediata               50115 non-null  object        \n",
      " 15  municipio_Regiao_Imediata          50115 non-null  object        \n",
      " 16  id_Regiao_Intermediaria            50115 non-null  int64         \n",
      " 17  nome_Regiao_Intermediaria          50115 non-null  object        \n",
      " 18  municipio_Regiao_Intermediaria     50115 non-null  object        \n",
      " 19  codigo_Concentracao_Urbana         5931 non-null   float64       \n",
      " 20  nome_Concentracao_Urbana           5931 non-null   object        \n",
      " 21  tipo_Concentracao_Urbana           5931 non-null   object        \n",
      " 22  codigo_Arranjo_Populacional        8595 non-null   float64       \n",
      " 23  nome_Arranjo_Populacional          8595 non-null   object        \n",
      " 24  hierarquia_Urbana                  50115 non-null  object        \n",
      " 25  hierarquia_Urbana_Principais       50115 non-null  object        \n",
      " 26  codigo_Regiao_Rural                50115 non-null  int64         \n",
      " 27  nome_Regiao_Rural                  50115 non-null  object        \n",
      " 28  nome_Regiao_Rural_Nucleo           50115 non-null  object        \n",
      " 29  amazonia_Legal                     50115 non-null  object        \n",
      " 30  semiarido                          50115 non-null  object        \n",
      " 31  regiao_Sao_Paulo                   50115 non-null  object        \n",
      " 32  valor_Bruto_Agropecuaria           50115 non-null  float64       \n",
      " 33  valor_Bruto_Industria              50115 non-null  float64       \n",
      " 34  valor_Bruto_Servicos               50115 non-null  float64       \n",
      " 35  valor_Bruto_Administracao_Publica  50115 non-null  float64       \n",
      " 36  valor_Bruto_Total                  50115 non-null  float64       \n",
      " 37  valor_Impostos_Liquido             50115 non-null  float64       \n",
      " 38  valor_PIB                          50115 non-null  float64       \n",
      " 39  valor_PIB_percapita                50115 non-null  float64       \n",
      " 40  atividade_Primeiro_Maior_Valor     50115 non-null  object        \n",
      " 41  atividade_Segundo_Maior_Valor      50115 non-null  object        \n",
      " 42  atividade_Terceiro_Maior_Valor     50115 non-null  object        \n",
      " 43  populacao_Projetada                50115 non-null  float64       \n",
      " 44  tipo_Valor                         50115 non-null  object        \n",
      " 45  data_Extracao                      50115 non-null  datetime64[ns]\n",
      " 46  ano_Referencia                     50115 non-null  int64         \n",
      "dtypes: datetime64[ns](1), float64(11), int64(10), object(25)\n",
      "memory usage: 18.0+ MB\n"
     ]
    }
   ],
   "source": [
    "pib.info()"
   ]
  },
  {
   "cell_type": "code",
   "execution_count": 83,
   "metadata": {
    "scrolled": true
   },
   "outputs": [
    {
     "data": {
      "text/plain": [
       "ano_PIB                                  0\n",
       "id_Regiao                                0\n",
       "nome_Regiao                              0\n",
       "id_Estado                                0\n",
       "sigla_Estado                             0\n",
       "nome_Estado                              0\n",
       "id_Municipio                             0\n",
       "nome_Municipio                           0\n",
       "nome_Regiao_Metropolitana            37626\n",
       "id_Mesoregiao                            0\n",
       "nome_Mesoregiao                          0\n",
       "id_Microregiao                           0\n",
       "nome_Microregiao                         0\n",
       "id_Regiao_Imediata                       0\n",
       "nome_Regiao_Imediata                     0\n",
       "municipio_Regiao_Imediata                0\n",
       "id_Regiao_Intermediaria                  0\n",
       "nome_Regiao_Intermediaria                0\n",
       "municipio_Regiao_Intermediaria           0\n",
       "codigo_Concentracao_Urbana           44184\n",
       "nome_Concentracao_Urbana             44184\n",
       "tipo_Concentracao_Urbana             44184\n",
       "codigo_Arranjo_Populacional          41520\n",
       "nome_Arranjo_Populacional            41520\n",
       "hierarquia_Urbana                        0\n",
       "hierarquia_Urbana_Principais             0\n",
       "codigo_Regiao_Rural                      0\n",
       "nome_Regiao_Rural                        0\n",
       "nome_Regiao_Rural_Nucleo                 0\n",
       "amazonia_Legal                           0\n",
       "semiarido                                0\n",
       "regiao_Sao_Paulo                         0\n",
       "valor_Bruto_Agropecuaria                 0\n",
       "valor_Bruto_Industria                    0\n",
       "valor_Bruto_Servicos                     0\n",
       "valor_Bruto_Administracao_Publica        0\n",
       "valor_Bruto_Total                        0\n",
       "valor_Impostos_Liquido                   0\n",
       "valor_PIB                                0\n",
       "valor_PIB_percapita                      0\n",
       "atividade_Primeiro_Maior_Valor           0\n",
       "atividade_Segundo_Maior_Valor            0\n",
       "atividade_Terceiro_Maior_Valor           0\n",
       "populacao_Projetada                      0\n",
       "tipo_Valor                               0\n",
       "data_Extracao                            0\n",
       "ano_Referencia                           0\n",
       "dtype: int64"
      ]
     },
     "execution_count": 83,
     "metadata": {},
     "output_type": "execute_result"
    }
   ],
   "source": [
    "pib.isnull().sum()"
   ]
  },
  {
   "cell_type": "markdown",
   "metadata": {},
   "source": [
    "#### Especificar tratamento para valores nulos para nome da região metropolitana"
   ]
  },
  {
   "cell_type": "code",
   "execution_count": 84,
   "metadata": {},
   "outputs": [],
   "source": [
    "pib['nome_Regiao_Metropolitana'].fillna('Não pertence Região Metropolitana', inplace=True)"
   ]
  },
  {
   "cell_type": "code",
   "execution_count": 85,
   "metadata": {},
   "outputs": [],
   "source": [
    "pib['valida_Regiao_Metropolitana'] = np.where(\n",
    "    pib['nome_Regiao_Metropolitana'] == 'Não pertence Região Metropolitana'\n",
    "    ,True\n",
    "    ,False\n",
    ")"
   ]
  },
  {
   "cell_type": "code",
   "execution_count": null,
   "metadata": {},
   "outputs": [],
   "source": []
  },
  {
   "cell_type": "markdown",
   "metadata": {},
   "source": [
    "#### Especificar tratamento para valores nulos para código e nome da concentração urbana"
   ]
  },
  {
   "cell_type": "code",
   "execution_count": 86,
   "metadata": {},
   "outputs": [
    {
     "data": {
      "text/plain": [
       "1100122.0"
      ]
     },
     "execution_count": 86,
     "metadata": {},
     "output_type": "execute_result"
    }
   ],
   "source": [
    "min(pib[pib['codigo_Concentracao_Urbana'].notnull()]['codigo_Concentracao_Urbana'])"
   ]
  },
  {
   "cell_type": "code",
   "execution_count": 87,
   "metadata": {},
   "outputs": [],
   "source": [
    "pib['codigo_Concentracao_Urbana'].fillna(0, inplace=True)"
   ]
  },
  {
   "cell_type": "code",
   "execution_count": 88,
   "metadata": {},
   "outputs": [],
   "source": [
    "pib['nome_Concentracao_Urbana'].fillna('Não pertence Concentração Urbana', inplace=True)"
   ]
  },
  {
   "cell_type": "code",
   "execution_count": 89,
   "metadata": {},
   "outputs": [],
   "source": [
    "pib['tipo_Concentracao_Urbana'].fillna('Não pertence Concentração Urbana', inplace=True)"
   ]
  },
  {
   "cell_type": "code",
   "execution_count": 90,
   "metadata": {},
   "outputs": [],
   "source": [
    "pib['valida_Concentracao_Urbana'] = np.where(\n",
    "    pib['codigo_Concentracao_Urbana'] == 0\n",
    "    ,True\n",
    "    ,False\n",
    ")"
   ]
  },
  {
   "cell_type": "code",
   "execution_count": null,
   "metadata": {},
   "outputs": [],
   "source": []
  },
  {
   "cell_type": "markdown",
   "metadata": {},
   "source": [
    "#### Especificar tratamento para valores nulos para código e nome do arranjo populacional"
   ]
  },
  {
   "cell_type": "code",
   "execution_count": 91,
   "metadata": {},
   "outputs": [
    {
     "data": {
      "text/plain": [
       "1100106.0"
      ]
     },
     "execution_count": 91,
     "metadata": {},
     "output_type": "execute_result"
    }
   ],
   "source": [
    "min(pib[pib['codigo_Arranjo_Populacional'].notnull()]['codigo_Arranjo_Populacional'])"
   ]
  },
  {
   "cell_type": "code",
   "execution_count": 92,
   "metadata": {},
   "outputs": [],
   "source": [
    "pib['codigo_Arranjo_Populacional'].fillna(0, inplace=True)"
   ]
  },
  {
   "cell_type": "code",
   "execution_count": 93,
   "metadata": {},
   "outputs": [],
   "source": [
    "pib['nome_Arranjo_Populacional'].fillna('Não pertence Arranjo Populacional', inplace=True)"
   ]
  },
  {
   "cell_type": "code",
   "execution_count": 94,
   "metadata": {},
   "outputs": [],
   "source": [
    "pib['valida_Arranjo_Populacional'] = np.where(\n",
    "    pib['codigo_Arranjo_Populacional'] == 0\n",
    "    ,True\n",
    "    ,False\n",
    ")"
   ]
  },
  {
   "cell_type": "code",
   "execution_count": null,
   "metadata": {},
   "outputs": [],
   "source": []
  },
  {
   "cell_type": "markdown",
   "metadata": {},
   "source": [
    "### Selecionar colunas especificas ordenar sequencia colunas"
   ]
  },
  {
   "cell_type": "code",
   "execution_count": 95,
   "metadata": {},
   "outputs": [],
   "source": [
    "nomes_colunas = [\n",
    "    'id_Regiao'\n",
    "    ,'nome_Regiao'\n",
    "    ,'id_Estado'\n",
    "    ,'sigla_Estado'\n",
    "    ,'nome_Estado'\n",
    "    ,'id_Municipio'\n",
    "    ,'nome_Municipio'\n",
    "    ,'nome_Regiao_Metropolitana'\n",
    "    ,'valida_Regiao_Metropolitana'\n",
    "    ,'id_Mesoregiao'\n",
    "    ,'nome_Mesoregiao'\n",
    "    ,'id_Microregiao'\n",
    "    ,'nome_Microregiao'\n",
    "    ,'id_Regiao_Imediata'\n",
    "    ,'nome_Regiao_Imediata'\n",
    "    ,'municipio_Regiao_Imediata'\n",
    "    ,'id_Regiao_Intermediaria'\n",
    "    ,'nome_Regiao_Intermediaria'\n",
    "    ,'municipio_Regiao_Intermediaria'\n",
    "    ,'codigo_Concentracao_Urbana'\n",
    "    ,'nome_Concentracao_Urbana'\n",
    "    ,'tipo_Concentracao_Urbana'\n",
    "    ,'valida_Concentracao_Urbana'\n",
    "    ,'codigo_Arranjo_Populacional'\n",
    "    ,'nome_Arranjo_Populacional'\n",
    "    ,'valida_Arranjo_Populacional'\n",
    "    ,'hierarquia_Urbana'\n",
    "    ,'hierarquia_Urbana_Principais'\n",
    "    ,'codigo_Regiao_Rural'\n",
    "    ,'nome_Regiao_Rural'\n",
    "    ,'nome_Regiao_Rural_Nucleo'\n",
    "    ,'ano_Referencia'\n",
    "    ,'ano_PIB'\n",
    "    ,'valor_Bruto_Agropecuaria'\n",
    "    ,'valor_Bruto_Industria'\n",
    "    ,'valor_Bruto_Servicos'\n",
    "    ,'valor_Bruto_Administracao_Publica'\n",
    "    ,'valor_Bruto_Total'\n",
    "    ,'valor_Impostos_Liquido'\n",
    "    ,'valor_PIB'\n",
    "    ,'valor_PIB_percapita'\n",
    "    ,'populacao_Projetada'\n",
    "    ,'tipo_Valor'\n",
    "    ,'atividade_Primeiro_Maior_Valor'\n",
    "    ,'atividade_Segundo_Maior_Valor'\n",
    "    ,'atividade_Terceiro_Maior_Valor'\n",
    "    ,'data_Extracao'    \n",
    "]"
   ]
  },
  {
   "cell_type": "code",
   "execution_count": 96,
   "metadata": {},
   "outputs": [],
   "source": [
    "pib = pib[nomes_colunas]"
   ]
  },
  {
   "cell_type": "code",
   "execution_count": null,
   "metadata": {},
   "outputs": [],
   "source": []
  },
  {
   "cell_type": "markdown",
   "metadata": {},
   "source": [
    "#### Características do dataframe após tratamento"
   ]
  },
  {
   "cell_type": "code",
   "execution_count": 97,
   "metadata": {},
   "outputs": [
    {
     "name": "stdout",
     "output_type": "stream",
     "text": [
      "<class 'pandas.core.frame.DataFrame'>\n",
      "RangeIndex: 50115 entries, 0 to 50114\n",
      "Data columns (total 47 columns):\n",
      " #   Column                             Non-Null Count  Dtype         \n",
      "---  ------                             --------------  -----         \n",
      " 0   id_Regiao                          50115 non-null  int64         \n",
      " 1   nome_Regiao                        50115 non-null  object        \n",
      " 2   id_Estado                          50115 non-null  int64         \n",
      " 3   sigla_Estado                       50115 non-null  object        \n",
      " 4   nome_Estado                        50115 non-null  object        \n",
      " 5   id_Municipio                       50115 non-null  int64         \n",
      " 6   nome_Municipio                     50115 non-null  object        \n",
      " 7   nome_Regiao_Metropolitana          50115 non-null  object        \n",
      " 8   valida_Regiao_Metropolitana        50115 non-null  bool          \n",
      " 9   id_Mesoregiao                      50115 non-null  int64         \n",
      " 10  nome_Mesoregiao                    50115 non-null  object        \n",
      " 11  id_Microregiao                     50115 non-null  int64         \n",
      " 12  nome_Microregiao                   50115 non-null  object        \n",
      " 13  id_Regiao_Imediata                 50115 non-null  int64         \n",
      " 14  nome_Regiao_Imediata               50115 non-null  object        \n",
      " 15  municipio_Regiao_Imediata          50115 non-null  object        \n",
      " 16  id_Regiao_Intermediaria            50115 non-null  int64         \n",
      " 17  nome_Regiao_Intermediaria          50115 non-null  object        \n",
      " 18  municipio_Regiao_Intermediaria     50115 non-null  object        \n",
      " 19  codigo_Concentracao_Urbana         50115 non-null  float64       \n",
      " 20  nome_Concentracao_Urbana           50115 non-null  object        \n",
      " 21  tipo_Concentracao_Urbana           50115 non-null  object        \n",
      " 22  valida_Concentracao_Urbana         50115 non-null  bool          \n",
      " 23  codigo_Arranjo_Populacional        50115 non-null  float64       \n",
      " 24  nome_Arranjo_Populacional          50115 non-null  object        \n",
      " 25  valida_Arranjo_Populacional        50115 non-null  bool          \n",
      " 26  hierarquia_Urbana                  50115 non-null  object        \n",
      " 27  hierarquia_Urbana_Principais       50115 non-null  object        \n",
      " 28  codigo_Regiao_Rural                50115 non-null  int64         \n",
      " 29  nome_Regiao_Rural                  50115 non-null  object        \n",
      " 30  nome_Regiao_Rural_Nucleo           50115 non-null  object        \n",
      " 31  ano_Referencia                     50115 non-null  int64         \n",
      " 32  ano_PIB                            50115 non-null  int64         \n",
      " 33  valor_Bruto_Agropecuaria           50115 non-null  float64       \n",
      " 34  valor_Bruto_Industria              50115 non-null  float64       \n",
      " 35  valor_Bruto_Servicos               50115 non-null  float64       \n",
      " 36  valor_Bruto_Administracao_Publica  50115 non-null  float64       \n",
      " 37  valor_Bruto_Total                  50115 non-null  float64       \n",
      " 38  valor_Impostos_Liquido             50115 non-null  float64       \n",
      " 39  valor_PIB                          50115 non-null  float64       \n",
      " 40  valor_PIB_percapita                50115 non-null  float64       \n",
      " 41  populacao_Projetada                50115 non-null  float64       \n",
      " 42  tipo_Valor                         50115 non-null  object        \n",
      " 43  atividade_Primeiro_Maior_Valor     50115 non-null  object        \n",
      " 44  atividade_Segundo_Maior_Valor      50115 non-null  object        \n",
      " 45  atividade_Terceiro_Maior_Valor     50115 non-null  object        \n",
      " 46  data_Extracao                      50115 non-null  datetime64[ns]\n",
      "dtypes: bool(3), datetime64[ns](1), float64(11), int64(10), object(22)\n",
      "memory usage: 17.0+ MB\n"
     ]
    }
   ],
   "source": [
    "pib.info()"
   ]
  },
  {
   "cell_type": "code",
   "execution_count": 98,
   "metadata": {
    "scrolled": true
   },
   "outputs": [
    {
     "data": {
      "text/plain": [
       "id_Regiao                            0\n",
       "nome_Regiao                          0\n",
       "id_Estado                            0\n",
       "sigla_Estado                         0\n",
       "nome_Estado                          0\n",
       "id_Municipio                         0\n",
       "nome_Municipio                       0\n",
       "nome_Regiao_Metropolitana            0\n",
       "valida_Regiao_Metropolitana          0\n",
       "id_Mesoregiao                        0\n",
       "nome_Mesoregiao                      0\n",
       "id_Microregiao                       0\n",
       "nome_Microregiao                     0\n",
       "id_Regiao_Imediata                   0\n",
       "nome_Regiao_Imediata                 0\n",
       "municipio_Regiao_Imediata            0\n",
       "id_Regiao_Intermediaria              0\n",
       "nome_Regiao_Intermediaria            0\n",
       "municipio_Regiao_Intermediaria       0\n",
       "codigo_Concentracao_Urbana           0\n",
       "nome_Concentracao_Urbana             0\n",
       "tipo_Concentracao_Urbana             0\n",
       "valida_Concentracao_Urbana           0\n",
       "codigo_Arranjo_Populacional          0\n",
       "nome_Arranjo_Populacional            0\n",
       "valida_Arranjo_Populacional          0\n",
       "hierarquia_Urbana                    0\n",
       "hierarquia_Urbana_Principais         0\n",
       "codigo_Regiao_Rural                  0\n",
       "nome_Regiao_Rural                    0\n",
       "nome_Regiao_Rural_Nucleo             0\n",
       "ano_Referencia                       0\n",
       "ano_PIB                              0\n",
       "valor_Bruto_Agropecuaria             0\n",
       "valor_Bruto_Industria                0\n",
       "valor_Bruto_Servicos                 0\n",
       "valor_Bruto_Administracao_Publica    0\n",
       "valor_Bruto_Total                    0\n",
       "valor_Impostos_Liquido               0\n",
       "valor_PIB                            0\n",
       "valor_PIB_percapita                  0\n",
       "populacao_Projetada                  0\n",
       "tipo_Valor                           0\n",
       "atividade_Primeiro_Maior_Valor       0\n",
       "atividade_Segundo_Maior_Valor        0\n",
       "atividade_Terceiro_Maior_Valor       0\n",
       "data_Extracao                        0\n",
       "dtype: int64"
      ]
     },
     "execution_count": 98,
     "metadata": {},
     "output_type": "execute_result"
    }
   ],
   "source": [
    "pib.isnull().sum()"
   ]
  },
  {
   "cell_type": "code",
   "execution_count": null,
   "metadata": {},
   "outputs": [],
   "source": []
  },
  {
   "cell_type": "markdown",
   "metadata": {},
   "source": [
    "## Salvar dataframe em arquivo local formato parquet"
   ]
  },
  {
   "cell_type": "code",
   "execution_count": 99,
   "metadata": {},
   "outputs": [],
   "source": [
    "pib.to_parquet(local_stage + 'pib-municipios-2010-2018.parquet', index=False)"
   ]
  },
  {
   "cell_type": "code",
   "execution_count": null,
   "metadata": {},
   "outputs": [],
   "source": []
  },
  {
   "cell_type": "code",
   "execution_count": 100,
   "metadata": {},
   "outputs": [],
   "source": [
    "#Fim da execução do notebook\n",
    "end_general = datetime.now()"
   ]
  },
  {
   "cell_type": "code",
   "execution_count": 101,
   "metadata": {},
   "outputs": [
    {
     "name": "stdout",
     "output_type": "stream",
     "text": [
      "Tempo total notebook 0:32:16.433327\n"
     ]
    }
   ],
   "source": [
    "# Write the DataFrame to a BigQuery table\n",
    "\n",
    "print(\"Tempo total notebook \" + str(end_general - start_general))"
   ]
  },
  {
   "cell_type": "code",
   "execution_count": null,
   "metadata": {},
   "outputs": [],
   "source": []
  }
 ],
 "metadata": {
  "kernelspec": {
   "display_name": "Python 3",
   "language": "python",
   "name": "python3"
  },
  "language_info": {
   "codemirror_mode": {
    "name": "ipython",
    "version": 3
   },
   "file_extension": ".py",
   "mimetype": "text/x-python",
   "name": "python",
   "nbconvert_exporter": "python",
   "pygments_lexer": "ipython3",
   "version": "3.7.3"
  }
 },
 "nbformat": 4,
 "nbformat_minor": 4
}
